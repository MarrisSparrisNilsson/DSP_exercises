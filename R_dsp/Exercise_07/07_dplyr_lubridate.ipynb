{
 "cells": [
  {
   "cell_type": "markdown",
   "id": "9de3dbe1",
   "metadata": {},
   "source": [
    "*Prepared for the course \"TDPS22: Data Science Programming\" at Jönköping University, Teacher: [Marcel Bollmann](mailto:marcel.bollmann@ju.se)*\n",
    "\n",
    "# Exercise 7: Data Transformation with dplyr & lubridate\n",
    "\n",
    "This notebook contains exercises on data transformation. We're following [Chapter 5 in _R for Data Science_](https://r4ds.had.co.nz/transform.html), but also jump ahead a bit and include [Chapter 16 on \"dates and times\"](https://r4ds.had.co.nz/dates-and-times.html).\n",
    "\n",
    "Concretely, we'll look at the five core functions for data manipulation with dplyr – `filter()`, `arrange()`, `select()`, `mutate()`, and `summarise()` –, data grouping via `group_by()`, how to use pipes to chain function calls via `%>%`, and how to work with dates, date-times, and times-of-day.\n",
    "\n",
    "### Learning Goals\n",
    "\n",
    "- Know how to _perform data manipulation_ with dplyr.\n",
    "- Understand how to _use pipes_.\n",
    "- Understand how to _work with dates and date-times_ in lubridate, and _time-of-day_ in hms.\n",
    "\n",
    "### Useful Resources\n",
    "\n",
    "+ [\"Data transformation\" in _R for Data Science_](https://r4ds.had.co.nz/transform.html)\n",
    "+ [\"Dates and times\" in _R for Data Science_](https://r4ds.had.co.nz/dates-and-times.html)\n",
    "+ [RStudio Cheatsheets](https://www.rstudio.com/resources/cheatsheets/)\n",
    "+ [Hands-On Programming with R](https://rstudio-education.github.io/hopr/) _(as a reference)_"
   ]
  },
  {
   "cell_type": "code",
   "execution_count": 12,
   "id": "ab5ad40d",
   "metadata": {
    "vscode": {
     "languageId": "r"
    }
   },
   "outputs": [],
   "source": [
    "library(tidyverse)\n",
    "library(lubridate)  # this is part of Tidyverse, but needs to be loaded explicitly\n",
    "library(hms)        # this is part of Tidyverse, but needs to be loaded explicitly\n",
    "library(dplyr)"
   ]
  },
  {
   "cell_type": "markdown",
   "id": "a090eb0f-a2f3-40af-886f-e030a3e2f778",
   "metadata": {},
   "source": [
    "- - - \n",
    "\n",
    "Let's try loading the **Coffee Chain dataset** that we already saw in Exercise 1:"
   ]
  },
  {
   "cell_type": "code",
   "execution_count": 13,
   "id": "2b113755-9335-47fb-8d60-eccfffc2cbae",
   "metadata": {
    "vscode": {
     "languageId": "r"
    }
   },
   "outputs": [
    {
     "name": "stderr",
     "output_type": "stream",
     "text": [
      "\u001b[1mRows: \u001b[22m\u001b[34m10000\u001b[39m \u001b[1mColumns: \u001b[22m\u001b[34m7\u001b[39m\n",
      "\u001b[36m──\u001b[39m \u001b[1mColumn specification\u001b[22m \u001b[36m────────────────────────────────────────────────────────\u001b[39m\n",
      "\u001b[1mDelimiter:\u001b[22m \",\"\n",
      "\u001b[31mchr\u001b[39m (4): Ddate, Market, Product, Product Type\n",
      "\u001b[32mdbl\u001b[39m (3): Sales, Profit, Expenses\n",
      "\n",
      "\u001b[36mℹ\u001b[39m Use `spec()` to retrieve the full column specification for this data.\n",
      "\u001b[36mℹ\u001b[39m Specify the column types or set `show_col_types = FALSE` to quiet this message.\n"
     ]
    }
   ],
   "source": [
    "coffee <- read_csv(\"data/coffee-chain.csv\")"
   ]
  },
  {
   "cell_type": "markdown",
   "id": "677f3d01-d262-4035-92e1-158992f0e5cc",
   "metadata": {},
   "source": [
    "The column types are determined automatically, but they are not ideal — the numeric columns are assigned `dbl` (floating-point numbers) while they are actually only ever integer-valued, and the \"Market\", \"Product\", \"Product Type\" columns are good examples for **factors**, since they are categorical variables with a fixed set of possible values. Of course, there's also the question of how to parse the date into a proper `date` variable, but we'll get to that a little later. The other issues are easy to fix, so let's do that immediately:"
   ]
  },
  {
   "cell_type": "code",
   "execution_count": 14,
   "id": "409b8643-e987-40bd-9e56-3917c0416b6b",
   "metadata": {
    "vscode": {
     "languageId": "r"
    }
   },
   "outputs": [
    {
     "name": "stdout",
     "output_type": "stream",
     "text": [
      "spc_tbl_ [10,000 × 7] (S3: spec_tbl_df/tbl_df/tbl/data.frame)\n",
      " $ Ddate       : chr [1:10000] \"9/1/13\" \"5/1/12\" \"1/1/13\" \"8/1/12\" ...\n",
      " $ Market      : Factor w/ 4 levels \"Central\",\"East\",..: 1 2 3 3 3 2 1 1 4 1 ...\n",
      " $ Product     : Factor w/ 13 levels \"Decaf Irish Cream\",..: 1 2 3 4 5 6 7 1 2 1 ...\n",
      " $ Product Type: Factor w/ 4 levels \"Coffee\",\"Espresso\",..: 1 2 2 3 1 4 2 1 2 1 ...\n",
      " $ Sales       : int [1:10000] 90 203 524 273 201 171 132 225 108 208 ...\n",
      " $ Profit      : int [1:10000] 36 56 136 81 -3 26 72 160 37 105 ...\n",
      " $ Expenses    : int [1:10000] 37 55 93 68 68 73 31 56 42 43 ...\n",
      " - attr(*, \"spec\")=\n",
      "  .. cols(\n",
      "  ..   Ddate = \u001b[31mcol_character()\u001b[39m,\n",
      "  ..   Market = \u001b[31mcol_factor(levels = NULL, ordered = FALSE, include_na = FALSE)\u001b[39m,\n",
      "  ..   Product = \u001b[31mcol_factor(levels = NULL, ordered = FALSE, include_na = FALSE)\u001b[39m,\n",
      "  ..   `Product Type` = \u001b[31mcol_factor(levels = NULL, ordered = FALSE, include_na = FALSE)\u001b[39m,\n",
      "  ..   Sales = \u001b[32mcol_integer()\u001b[39m,\n",
      "  ..   Profit = \u001b[32mcol_integer()\u001b[39m,\n",
      "  ..   Expenses = \u001b[32mcol_integer()\u001b[39m\n",
      "  .. )\n",
      " - attr(*, \"problems\")=<externalptr> \n"
     ]
    }
   ],
   "source": [
    "coffee <- read_csv(\"data/coffee-chain.csv\", col_types=\"cfffiii\")\n",
    "str(coffee)"
   ]
  },
  {
   "cell_type": "markdown",
   "id": "e655cac0-21df-411c-8d17-b21259985d99",
   "metadata": {},
   "source": [
    "Look at the help for `read_csv()` if you want to know more about the `col_types` argument ..."
   ]
  },
  {
   "cell_type": "markdown",
   "id": "8ae91e50-5817-4c45-ac78-63341b9b3fde",
   "metadata": {},
   "source": [
    "- - - \n",
    "\n",
    "## Filtering, arranging, selecting, mutating\n",
    "\n",
    "We first look at using four core dplyr functions individually:\n",
    "- `filter()` is a way to select certain _rows_ of a dataset;\n",
    "- `arrange()` is a way to sort them;\n",
    "- `select()` is a way to select certain _columns_ of a dataset; and\n",
    "- `mutate()` is a way to create new columns from old ones.\n",
    "\n",
    "**1. Select all rows with products of type \"Coffee\"!**  _(You should end up with 3383 rows. Look at the first line of the output to see the number of rows!)_"
   ]
  },
  {
   "cell_type": "code",
   "execution_count": 30,
   "id": "7623831b-06d9-4aff-b8a0-35ae37a84879",
   "metadata": {
    "vscode": {
     "languageId": "r"
    }
   },
   "outputs": [
    {
     "data": {
      "text/html": [
       "<table class=\"dataframe\">\n",
       "<caption>A spec_tbl_df: 3383 × 7</caption>\n",
       "<thead>\n",
       "\t<tr><th scope=col>Ddate</th><th scope=col>Market</th><th scope=col>Product</th><th scope=col>Product Type</th><th scope=col>Sales</th><th scope=col>Profit</th><th scope=col>Expenses</th></tr>\n",
       "\t<tr><th scope=col>&lt;chr&gt;</th><th scope=col>&lt;fct&gt;</th><th scope=col>&lt;fct&gt;</th><th scope=col>&lt;fct&gt;</th><th scope=col>&lt;int&gt;</th><th scope=col>&lt;int&gt;</th><th scope=col>&lt;int&gt;</th></tr>\n",
       "</thead>\n",
       "<tbody>\n",
       "\t<tr><td>9/1/13 </td><td>Central</td><td>Decaf Irish Cream</td><td>Coffee</td><td> 90</td><td> 36</td><td> 37</td></tr>\n",
       "\t<tr><td>12/1/13</td><td>West   </td><td>Amaretto         </td><td>Coffee</td><td>201</td><td> -3</td><td> 68</td></tr>\n",
       "\t<tr><td>2/1/13 </td><td>Central</td><td>Decaf Irish Cream</td><td>Coffee</td><td>225</td><td>160</td><td> 56</td></tr>\n",
       "\t<tr><td>9/1/13 </td><td>Central</td><td>Decaf Irish Cream</td><td>Coffee</td><td>208</td><td>105</td><td> 43</td></tr>\n",
       "\t<tr><td>1/1/12 </td><td>Central</td><td>Decaf Irish Cream</td><td>Coffee</td><td>316</td><td>163</td><td> 64</td></tr>\n",
       "\t<tr><td>1/1/12 </td><td>South  </td><td>Decaf Irish Cream</td><td>Coffee</td><td>112</td><td> 66</td><td> 24</td></tr>\n",
       "\t<tr><td>2/1/13 </td><td>South  </td><td>Decaf Irish Cream</td><td>Coffee</td><td>130</td><td> 68</td><td> 43</td></tr>\n",
       "\t<tr><td>1/1/12 </td><td>East   </td><td>Decaf Irish Cream</td><td>Coffee</td><td>252</td><td> 87</td><td> 81</td></tr>\n",
       "\t<tr><td>7/1/13 </td><td>Central</td><td>Decaf Irish Cream</td><td>Coffee</td><td> 70</td><td> 24</td><td> 22</td></tr>\n",
       "\t<tr><td>2/1/13 </td><td>South  </td><td>Decaf Irish Cream</td><td>Coffee</td><td> 96</td><td> 27</td><td> 39</td></tr>\n",
       "\t<tr><td>10/1/12</td><td>West   </td><td>Decaf Irish Cream</td><td>Coffee</td><td>114</td><td> 16</td><td> 51</td></tr>\n",
       "\t<tr><td>2/1/13 </td><td>South  </td><td>Decaf Irish Cream</td><td>Coffee</td><td> 82</td><td> 36</td><td> 23</td></tr>\n",
       "\t<tr><td>2/1/12 </td><td>West   </td><td>Decaf Irish Cream</td><td>Coffee</td><td>109</td><td>  6</td><td> 55</td></tr>\n",
       "\t<tr><td>12/1/12</td><td>Central</td><td>Decaf Irish Cream</td><td>Coffee</td><td>111</td><td> 13</td><td> 37</td></tr>\n",
       "\t<tr><td>12/1/12</td><td>Central</td><td>Decaf Irish Cream</td><td>Coffee</td><td>115</td><td> 12</td><td> 39</td></tr>\n",
       "\t<tr><td>10/1/12</td><td>West   </td><td>Decaf Irish Cream</td><td>Coffee</td><td>134</td><td> 33</td><td> 58</td></tr>\n",
       "\t<tr><td>6/1/13 </td><td>East   </td><td>Decaf Irish Cream</td><td>Coffee</td><td>598</td><td>385</td><td>118</td></tr>\n",
       "\t<tr><td>7/1/12 </td><td>West   </td><td>Decaf Irish Cream</td><td>Coffee</td><td>148</td><td> 43</td><td> 64</td></tr>\n",
       "\t<tr><td>4/1/12 </td><td>East   </td><td>Decaf Irish Cream</td><td>Coffee</td><td>199</td><td> 40</td><td> 45</td></tr>\n",
       "\t<tr><td>5/1/13 </td><td>South  </td><td>Decaf Irish Cream</td><td>Coffee</td><td> 76</td><td> 37</td><td> 21</td></tr>\n",
       "\t<tr><td>10/1/12</td><td>South  </td><td>Decaf Irish Cream</td><td>Coffee</td><td> 98</td><td> 17</td><td> 21</td></tr>\n",
       "\t<tr><td>5/1/13 </td><td>West   </td><td>Decaf Irish Cream</td><td>Coffee</td><td>164</td><td> 46</td><td> 48</td></tr>\n",
       "\t<tr><td>8/1/13 </td><td>Central</td><td>Decaf Irish Cream</td><td>Coffee</td><td>350</td><td>214</td><td>105</td></tr>\n",
       "\t<tr><td>1/1/13 </td><td>East   </td><td>Decaf Irish Cream</td><td>Coffee</td><td>342</td><td>113</td><td> 57</td></tr>\n",
       "\t<tr><td>7/1/12 </td><td>West   </td><td>Decaf Irish Cream</td><td>Coffee</td><td>127</td><td>  6</td><td> 50</td></tr>\n",
       "\t<tr><td>5/1/13 </td><td>West   </td><td>Colombian        </td><td>Coffee</td><td>468</td><td>214</td><td> 94</td></tr>\n",
       "\t<tr><td>5/1/12 </td><td>West   </td><td>Amaretto         </td><td>Coffee</td><td>115</td><td>  1</td><td> 55</td></tr>\n",
       "\t<tr><td>5/1/12 </td><td>Central</td><td>Amaretto         </td><td>Coffee</td><td>166</td><td> 32</td><td> 40</td></tr>\n",
       "\t<tr><td>1/1/12 </td><td>Central</td><td>Decaf Irish Cream</td><td>Coffee</td><td>191</td><td> 93</td><td> 42</td></tr>\n",
       "\t<tr><td>2/1/13 </td><td>West   </td><td>Decaf Irish Cream</td><td>Coffee</td><td> 85</td><td> 39</td><td> 44</td></tr>\n",
       "\t<tr><td>⋮</td><td>⋮</td><td>⋮</td><td>⋮</td><td>⋮</td><td>⋮</td><td>⋮</td></tr>\n",
       "\t<tr><td>1/1/12 </td><td>Central</td><td>Decaf Irish Cream</td><td>Coffee</td><td>171</td><td>139</td><td> 97</td></tr>\n",
       "\t<tr><td>1/1/12 </td><td>Central</td><td>Decaf Irish Cream</td><td>Coffee</td><td>239</td><td>131</td><td> 90</td></tr>\n",
       "\t<tr><td>9/1/12 </td><td>Central</td><td>Decaf Irish Cream</td><td>Coffee</td><td> 84</td><td> 26</td><td> 50</td></tr>\n",
       "\t<tr><td>5/1/12 </td><td>West   </td><td>Decaf Irish Cream</td><td>Coffee</td><td>114</td><td> 22</td><td> 38</td></tr>\n",
       "\t<tr><td>10/1/12</td><td>Central</td><td>Decaf Irish Cream</td><td>Coffee</td><td>188</td><td> 35</td><td> 58</td></tr>\n",
       "\t<tr><td>3/1/13 </td><td>East   </td><td>Decaf Irish Cream</td><td>Coffee</td><td>229</td><td> 25</td><td>104</td></tr>\n",
       "\t<tr><td>5/1/13 </td><td>Central</td><td>Decaf Irish Cream</td><td>Coffee</td><td>149</td><td> 49</td><td> 36</td></tr>\n",
       "\t<tr><td>2/1/12 </td><td>South  </td><td>Decaf Irish Cream</td><td>Coffee</td><td> 50</td><td> 26</td><td> 25</td></tr>\n",
       "\t<tr><td>1/1/12 </td><td>Central</td><td>Decaf Irish Cream</td><td>Coffee</td><td>240</td><td> 86</td><td> 63</td></tr>\n",
       "\t<tr><td>5/1/13 </td><td>South  </td><td>Decaf Irish Cream</td><td>Coffee</td><td>117</td><td> 43</td><td> 40</td></tr>\n",
       "\t<tr><td>4/1/13 </td><td>West   </td><td>Decaf Irish Cream</td><td>Coffee</td><td>123</td><td> 44</td><td> 39</td></tr>\n",
       "\t<tr><td>11/1/13</td><td>South  </td><td>Decaf Irish Cream</td><td>Coffee</td><td>523</td><td>230</td><td> 95</td></tr>\n",
       "\t<tr><td>7/1/12 </td><td>South  </td><td>Decaf Irish Cream</td><td>Coffee</td><td>141</td><td> 10</td><td> 63</td></tr>\n",
       "\t<tr><td>8/1/13 </td><td>South  </td><td>Decaf Irish Cream</td><td>Coffee</td><td>104</td><td>  8</td><td> 31</td></tr>\n",
       "\t<tr><td>7/1/12 </td><td>Central</td><td>Decaf Irish Cream</td><td>Coffee</td><td>140</td><td> 20</td><td> 49</td></tr>\n",
       "\t<tr><td>8/1/12 </td><td>West   </td><td>Decaf Irish Cream</td><td>Coffee</td><td>244</td><td> 30</td><td>166</td></tr>\n",
       "\t<tr><td>5/1/13 </td><td>West   </td><td>Amaretto         </td><td>Coffee</td><td>119</td><td> 36</td><td> 79</td></tr>\n",
       "\t<tr><td>12/1/12</td><td>East   </td><td>Decaf Irish Cream</td><td>Coffee</td><td>554</td><td>273</td><td>142</td></tr>\n",
       "\t<tr><td>5/1/13 </td><td>Central</td><td>Decaf Irish Cream</td><td>Coffee</td><td>132</td><td> 51</td><td> 42</td></tr>\n",
       "\t<tr><td>5/1/13 </td><td>Central</td><td>Decaf Irish Cream</td><td>Coffee</td><td> 61</td><td> 29</td><td> 18</td></tr>\n",
       "\t<tr><td>11/1/13</td><td>Central</td><td>Decaf Irish Cream</td><td>Coffee</td><td>536</td><td>388</td><td>103</td></tr>\n",
       "\t<tr><td>10/1/12</td><td>East   </td><td>Amaretto         </td><td>Coffee</td><td>262</td><td> 12</td><td> 64</td></tr>\n",
       "\t<tr><td>5/1/13 </td><td>West   </td><td>Decaf Irish Cream</td><td>Coffee</td><td>125</td><td> 31</td><td> 43</td></tr>\n",
       "\t<tr><td>12/1/12</td><td>Central</td><td>Decaf Irish Cream</td><td>Coffee</td><td>189</td><td> 34</td><td> 44</td></tr>\n",
       "\t<tr><td>9/1/13 </td><td>West   </td><td>Decaf Irish Cream</td><td>Coffee</td><td>139</td><td> 28</td><td> 41</td></tr>\n",
       "\t<tr><td>9/1/13 </td><td>East   </td><td>Decaf Irish Cream</td><td>Coffee</td><td>307</td><td>125</td><td> 41</td></tr>\n",
       "\t<tr><td>5/1/13 </td><td>West   </td><td>Decaf Irish Cream</td><td>Coffee</td><td>180</td><td> 40</td><td> 45</td></tr>\n",
       "\t<tr><td>2/1/12 </td><td>West   </td><td>Amaretto         </td><td>Coffee</td><td>124</td><td> 24</td><td> 51</td></tr>\n",
       "\t<tr><td>3/1/12 </td><td>Central</td><td>Decaf Irish Cream</td><td>Coffee</td><td>104</td><td> 20</td><td> 34</td></tr>\n",
       "\t<tr><td>1/1/12 </td><td>Central</td><td>Decaf Irish Cream</td><td>Coffee</td><td>310</td><td>163</td><td> 36</td></tr>\n",
       "</tbody>\n",
       "</table>\n"
      ],
      "text/latex": [
       "A spec\\_tbl\\_df: 3383 × 7\n",
       "\\begin{tabular}{lllllll}\n",
       " Ddate & Market & Product & Product Type & Sales & Profit & Expenses\\\\\n",
       " <chr> & <fct> & <fct> & <fct> & <int> & <int> & <int>\\\\\n",
       "\\hline\n",
       "\t 9/1/13  & Central & Decaf Irish Cream & Coffee &  90 &  36 &  37\\\\\n",
       "\t 12/1/13 & West    & Amaretto          & Coffee & 201 &  -3 &  68\\\\\n",
       "\t 2/1/13  & Central & Decaf Irish Cream & Coffee & 225 & 160 &  56\\\\\n",
       "\t 9/1/13  & Central & Decaf Irish Cream & Coffee & 208 & 105 &  43\\\\\n",
       "\t 1/1/12  & Central & Decaf Irish Cream & Coffee & 316 & 163 &  64\\\\\n",
       "\t 1/1/12  & South   & Decaf Irish Cream & Coffee & 112 &  66 &  24\\\\\n",
       "\t 2/1/13  & South   & Decaf Irish Cream & Coffee & 130 &  68 &  43\\\\\n",
       "\t 1/1/12  & East    & Decaf Irish Cream & Coffee & 252 &  87 &  81\\\\\n",
       "\t 7/1/13  & Central & Decaf Irish Cream & Coffee &  70 &  24 &  22\\\\\n",
       "\t 2/1/13  & South   & Decaf Irish Cream & Coffee &  96 &  27 &  39\\\\\n",
       "\t 10/1/12 & West    & Decaf Irish Cream & Coffee & 114 &  16 &  51\\\\\n",
       "\t 2/1/13  & South   & Decaf Irish Cream & Coffee &  82 &  36 &  23\\\\\n",
       "\t 2/1/12  & West    & Decaf Irish Cream & Coffee & 109 &   6 &  55\\\\\n",
       "\t 12/1/12 & Central & Decaf Irish Cream & Coffee & 111 &  13 &  37\\\\\n",
       "\t 12/1/12 & Central & Decaf Irish Cream & Coffee & 115 &  12 &  39\\\\\n",
       "\t 10/1/12 & West    & Decaf Irish Cream & Coffee & 134 &  33 &  58\\\\\n",
       "\t 6/1/13  & East    & Decaf Irish Cream & Coffee & 598 & 385 & 118\\\\\n",
       "\t 7/1/12  & West    & Decaf Irish Cream & Coffee & 148 &  43 &  64\\\\\n",
       "\t 4/1/12  & East    & Decaf Irish Cream & Coffee & 199 &  40 &  45\\\\\n",
       "\t 5/1/13  & South   & Decaf Irish Cream & Coffee &  76 &  37 &  21\\\\\n",
       "\t 10/1/12 & South   & Decaf Irish Cream & Coffee &  98 &  17 &  21\\\\\n",
       "\t 5/1/13  & West    & Decaf Irish Cream & Coffee & 164 &  46 &  48\\\\\n",
       "\t 8/1/13  & Central & Decaf Irish Cream & Coffee & 350 & 214 & 105\\\\\n",
       "\t 1/1/13  & East    & Decaf Irish Cream & Coffee & 342 & 113 &  57\\\\\n",
       "\t 7/1/12  & West    & Decaf Irish Cream & Coffee & 127 &   6 &  50\\\\\n",
       "\t 5/1/13  & West    & Colombian         & Coffee & 468 & 214 &  94\\\\\n",
       "\t 5/1/12  & West    & Amaretto          & Coffee & 115 &   1 &  55\\\\\n",
       "\t 5/1/12  & Central & Amaretto          & Coffee & 166 &  32 &  40\\\\\n",
       "\t 1/1/12  & Central & Decaf Irish Cream & Coffee & 191 &  93 &  42\\\\\n",
       "\t 2/1/13  & West    & Decaf Irish Cream & Coffee &  85 &  39 &  44\\\\\n",
       "\t ⋮ & ⋮ & ⋮ & ⋮ & ⋮ & ⋮ & ⋮\\\\\n",
       "\t 1/1/12  & Central & Decaf Irish Cream & Coffee & 171 & 139 &  97\\\\\n",
       "\t 1/1/12  & Central & Decaf Irish Cream & Coffee & 239 & 131 &  90\\\\\n",
       "\t 9/1/12  & Central & Decaf Irish Cream & Coffee &  84 &  26 &  50\\\\\n",
       "\t 5/1/12  & West    & Decaf Irish Cream & Coffee & 114 &  22 &  38\\\\\n",
       "\t 10/1/12 & Central & Decaf Irish Cream & Coffee & 188 &  35 &  58\\\\\n",
       "\t 3/1/13  & East    & Decaf Irish Cream & Coffee & 229 &  25 & 104\\\\\n",
       "\t 5/1/13  & Central & Decaf Irish Cream & Coffee & 149 &  49 &  36\\\\\n",
       "\t 2/1/12  & South   & Decaf Irish Cream & Coffee &  50 &  26 &  25\\\\\n",
       "\t 1/1/12  & Central & Decaf Irish Cream & Coffee & 240 &  86 &  63\\\\\n",
       "\t 5/1/13  & South   & Decaf Irish Cream & Coffee & 117 &  43 &  40\\\\\n",
       "\t 4/1/13  & West    & Decaf Irish Cream & Coffee & 123 &  44 &  39\\\\\n",
       "\t 11/1/13 & South   & Decaf Irish Cream & Coffee & 523 & 230 &  95\\\\\n",
       "\t 7/1/12  & South   & Decaf Irish Cream & Coffee & 141 &  10 &  63\\\\\n",
       "\t 8/1/13  & South   & Decaf Irish Cream & Coffee & 104 &   8 &  31\\\\\n",
       "\t 7/1/12  & Central & Decaf Irish Cream & Coffee & 140 &  20 &  49\\\\\n",
       "\t 8/1/12  & West    & Decaf Irish Cream & Coffee & 244 &  30 & 166\\\\\n",
       "\t 5/1/13  & West    & Amaretto          & Coffee & 119 &  36 &  79\\\\\n",
       "\t 12/1/12 & East    & Decaf Irish Cream & Coffee & 554 & 273 & 142\\\\\n",
       "\t 5/1/13  & Central & Decaf Irish Cream & Coffee & 132 &  51 &  42\\\\\n",
       "\t 5/1/13  & Central & Decaf Irish Cream & Coffee &  61 &  29 &  18\\\\\n",
       "\t 11/1/13 & Central & Decaf Irish Cream & Coffee & 536 & 388 & 103\\\\\n",
       "\t 10/1/12 & East    & Amaretto          & Coffee & 262 &  12 &  64\\\\\n",
       "\t 5/1/13  & West    & Decaf Irish Cream & Coffee & 125 &  31 &  43\\\\\n",
       "\t 12/1/12 & Central & Decaf Irish Cream & Coffee & 189 &  34 &  44\\\\\n",
       "\t 9/1/13  & West    & Decaf Irish Cream & Coffee & 139 &  28 &  41\\\\\n",
       "\t 9/1/13  & East    & Decaf Irish Cream & Coffee & 307 & 125 &  41\\\\\n",
       "\t 5/1/13  & West    & Decaf Irish Cream & Coffee & 180 &  40 &  45\\\\\n",
       "\t 2/1/12  & West    & Amaretto          & Coffee & 124 &  24 &  51\\\\\n",
       "\t 3/1/12  & Central & Decaf Irish Cream & Coffee & 104 &  20 &  34\\\\\n",
       "\t 1/1/12  & Central & Decaf Irish Cream & Coffee & 310 & 163 &  36\\\\\n",
       "\\end{tabular}\n"
      ],
      "text/markdown": [
       "\n",
       "A spec_tbl_df: 3383 × 7\n",
       "\n",
       "| Ddate &lt;chr&gt; | Market &lt;fct&gt; | Product &lt;fct&gt; | Product Type &lt;fct&gt; | Sales &lt;int&gt; | Profit &lt;int&gt; | Expenses &lt;int&gt; |\n",
       "|---|---|---|---|---|---|---|\n",
       "| 9/1/13  | Central | Decaf Irish Cream | Coffee |  90 |  36 |  37 |\n",
       "| 12/1/13 | West    | Amaretto          | Coffee | 201 |  -3 |  68 |\n",
       "| 2/1/13  | Central | Decaf Irish Cream | Coffee | 225 | 160 |  56 |\n",
       "| 9/1/13  | Central | Decaf Irish Cream | Coffee | 208 | 105 |  43 |\n",
       "| 1/1/12  | Central | Decaf Irish Cream | Coffee | 316 | 163 |  64 |\n",
       "| 1/1/12  | South   | Decaf Irish Cream | Coffee | 112 |  66 |  24 |\n",
       "| 2/1/13  | South   | Decaf Irish Cream | Coffee | 130 |  68 |  43 |\n",
       "| 1/1/12  | East    | Decaf Irish Cream | Coffee | 252 |  87 |  81 |\n",
       "| 7/1/13  | Central | Decaf Irish Cream | Coffee |  70 |  24 |  22 |\n",
       "| 2/1/13  | South   | Decaf Irish Cream | Coffee |  96 |  27 |  39 |\n",
       "| 10/1/12 | West    | Decaf Irish Cream | Coffee | 114 |  16 |  51 |\n",
       "| 2/1/13  | South   | Decaf Irish Cream | Coffee |  82 |  36 |  23 |\n",
       "| 2/1/12  | West    | Decaf Irish Cream | Coffee | 109 |   6 |  55 |\n",
       "| 12/1/12 | Central | Decaf Irish Cream | Coffee | 111 |  13 |  37 |\n",
       "| 12/1/12 | Central | Decaf Irish Cream | Coffee | 115 |  12 |  39 |\n",
       "| 10/1/12 | West    | Decaf Irish Cream | Coffee | 134 |  33 |  58 |\n",
       "| 6/1/13  | East    | Decaf Irish Cream | Coffee | 598 | 385 | 118 |\n",
       "| 7/1/12  | West    | Decaf Irish Cream | Coffee | 148 |  43 |  64 |\n",
       "| 4/1/12  | East    | Decaf Irish Cream | Coffee | 199 |  40 |  45 |\n",
       "| 5/1/13  | South   | Decaf Irish Cream | Coffee |  76 |  37 |  21 |\n",
       "| 10/1/12 | South   | Decaf Irish Cream | Coffee |  98 |  17 |  21 |\n",
       "| 5/1/13  | West    | Decaf Irish Cream | Coffee | 164 |  46 |  48 |\n",
       "| 8/1/13  | Central | Decaf Irish Cream | Coffee | 350 | 214 | 105 |\n",
       "| 1/1/13  | East    | Decaf Irish Cream | Coffee | 342 | 113 |  57 |\n",
       "| 7/1/12  | West    | Decaf Irish Cream | Coffee | 127 |   6 |  50 |\n",
       "| 5/1/13  | West    | Colombian         | Coffee | 468 | 214 |  94 |\n",
       "| 5/1/12  | West    | Amaretto          | Coffee | 115 |   1 |  55 |\n",
       "| 5/1/12  | Central | Amaretto          | Coffee | 166 |  32 |  40 |\n",
       "| 1/1/12  | Central | Decaf Irish Cream | Coffee | 191 |  93 |  42 |\n",
       "| 2/1/13  | West    | Decaf Irish Cream | Coffee |  85 |  39 |  44 |\n",
       "| ⋮ | ⋮ | ⋮ | ⋮ | ⋮ | ⋮ | ⋮ |\n",
       "| 1/1/12  | Central | Decaf Irish Cream | Coffee | 171 | 139 |  97 |\n",
       "| 1/1/12  | Central | Decaf Irish Cream | Coffee | 239 | 131 |  90 |\n",
       "| 9/1/12  | Central | Decaf Irish Cream | Coffee |  84 |  26 |  50 |\n",
       "| 5/1/12  | West    | Decaf Irish Cream | Coffee | 114 |  22 |  38 |\n",
       "| 10/1/12 | Central | Decaf Irish Cream | Coffee | 188 |  35 |  58 |\n",
       "| 3/1/13  | East    | Decaf Irish Cream | Coffee | 229 |  25 | 104 |\n",
       "| 5/1/13  | Central | Decaf Irish Cream | Coffee | 149 |  49 |  36 |\n",
       "| 2/1/12  | South   | Decaf Irish Cream | Coffee |  50 |  26 |  25 |\n",
       "| 1/1/12  | Central | Decaf Irish Cream | Coffee | 240 |  86 |  63 |\n",
       "| 5/1/13  | South   | Decaf Irish Cream | Coffee | 117 |  43 |  40 |\n",
       "| 4/1/13  | West    | Decaf Irish Cream | Coffee | 123 |  44 |  39 |\n",
       "| 11/1/13 | South   | Decaf Irish Cream | Coffee | 523 | 230 |  95 |\n",
       "| 7/1/12  | South   | Decaf Irish Cream | Coffee | 141 |  10 |  63 |\n",
       "| 8/1/13  | South   | Decaf Irish Cream | Coffee | 104 |   8 |  31 |\n",
       "| 7/1/12  | Central | Decaf Irish Cream | Coffee | 140 |  20 |  49 |\n",
       "| 8/1/12  | West    | Decaf Irish Cream | Coffee | 244 |  30 | 166 |\n",
       "| 5/1/13  | West    | Amaretto          | Coffee | 119 |  36 |  79 |\n",
       "| 12/1/12 | East    | Decaf Irish Cream | Coffee | 554 | 273 | 142 |\n",
       "| 5/1/13  | Central | Decaf Irish Cream | Coffee | 132 |  51 |  42 |\n",
       "| 5/1/13  | Central | Decaf Irish Cream | Coffee |  61 |  29 |  18 |\n",
       "| 11/1/13 | Central | Decaf Irish Cream | Coffee | 536 | 388 | 103 |\n",
       "| 10/1/12 | East    | Amaretto          | Coffee | 262 |  12 |  64 |\n",
       "| 5/1/13  | West    | Decaf Irish Cream | Coffee | 125 |  31 |  43 |\n",
       "| 12/1/12 | Central | Decaf Irish Cream | Coffee | 189 |  34 |  44 |\n",
       "| 9/1/13  | West    | Decaf Irish Cream | Coffee | 139 |  28 |  41 |\n",
       "| 9/1/13  | East    | Decaf Irish Cream | Coffee | 307 | 125 |  41 |\n",
       "| 5/1/13  | West    | Decaf Irish Cream | Coffee | 180 |  40 |  45 |\n",
       "| 2/1/12  | West    | Amaretto          | Coffee | 124 |  24 |  51 |\n",
       "| 3/1/12  | Central | Decaf Irish Cream | Coffee | 104 |  20 |  34 |\n",
       "| 1/1/12  | Central | Decaf Irish Cream | Coffee | 310 | 163 |  36 |\n",
       "\n"
      ],
      "text/plain": [
       "     Ddate   Market  Product           Product Type Sales Profit Expenses\n",
       "1    9/1/13  Central Decaf Irish Cream Coffee        90    36     37     \n",
       "2    12/1/13 West    Amaretto          Coffee       201    -3     68     \n",
       "3    2/1/13  Central Decaf Irish Cream Coffee       225   160     56     \n",
       "4    9/1/13  Central Decaf Irish Cream Coffee       208   105     43     \n",
       "5    1/1/12  Central Decaf Irish Cream Coffee       316   163     64     \n",
       "6    1/1/12  South   Decaf Irish Cream Coffee       112    66     24     \n",
       "7    2/1/13  South   Decaf Irish Cream Coffee       130    68     43     \n",
       "8    1/1/12  East    Decaf Irish Cream Coffee       252    87     81     \n",
       "9    7/1/13  Central Decaf Irish Cream Coffee        70    24     22     \n",
       "10   2/1/13  South   Decaf Irish Cream Coffee        96    27     39     \n",
       "11   10/1/12 West    Decaf Irish Cream Coffee       114    16     51     \n",
       "12   2/1/13  South   Decaf Irish Cream Coffee        82    36     23     \n",
       "13   2/1/12  West    Decaf Irish Cream Coffee       109     6     55     \n",
       "14   12/1/12 Central Decaf Irish Cream Coffee       111    13     37     \n",
       "15   12/1/12 Central Decaf Irish Cream Coffee       115    12     39     \n",
       "16   10/1/12 West    Decaf Irish Cream Coffee       134    33     58     \n",
       "17   6/1/13  East    Decaf Irish Cream Coffee       598   385    118     \n",
       "18   7/1/12  West    Decaf Irish Cream Coffee       148    43     64     \n",
       "19   4/1/12  East    Decaf Irish Cream Coffee       199    40     45     \n",
       "20   5/1/13  South   Decaf Irish Cream Coffee        76    37     21     \n",
       "21   10/1/12 South   Decaf Irish Cream Coffee        98    17     21     \n",
       "22   5/1/13  West    Decaf Irish Cream Coffee       164    46     48     \n",
       "23   8/1/13  Central Decaf Irish Cream Coffee       350   214    105     \n",
       "24   1/1/13  East    Decaf Irish Cream Coffee       342   113     57     \n",
       "25   7/1/12  West    Decaf Irish Cream Coffee       127     6     50     \n",
       "26   5/1/13  West    Colombian         Coffee       468   214     94     \n",
       "27   5/1/12  West    Amaretto          Coffee       115     1     55     \n",
       "28   5/1/12  Central Amaretto          Coffee       166    32     40     \n",
       "29   1/1/12  Central Decaf Irish Cream Coffee       191    93     42     \n",
       "30   2/1/13  West    Decaf Irish Cream Coffee        85    39     44     \n",
       "⋮    ⋮       ⋮       ⋮                 ⋮            ⋮     ⋮      ⋮       \n",
       "3354 1/1/12  Central Decaf Irish Cream Coffee       171   139     97     \n",
       "3355 1/1/12  Central Decaf Irish Cream Coffee       239   131     90     \n",
       "3356 9/1/12  Central Decaf Irish Cream Coffee        84    26     50     \n",
       "3357 5/1/12  West    Decaf Irish Cream Coffee       114    22     38     \n",
       "3358 10/1/12 Central Decaf Irish Cream Coffee       188    35     58     \n",
       "3359 3/1/13  East    Decaf Irish Cream Coffee       229    25    104     \n",
       "3360 5/1/13  Central Decaf Irish Cream Coffee       149    49     36     \n",
       "3361 2/1/12  South   Decaf Irish Cream Coffee        50    26     25     \n",
       "3362 1/1/12  Central Decaf Irish Cream Coffee       240    86     63     \n",
       "3363 5/1/13  South   Decaf Irish Cream Coffee       117    43     40     \n",
       "3364 4/1/13  West    Decaf Irish Cream Coffee       123    44     39     \n",
       "3365 11/1/13 South   Decaf Irish Cream Coffee       523   230     95     \n",
       "3366 7/1/12  South   Decaf Irish Cream Coffee       141    10     63     \n",
       "3367 8/1/13  South   Decaf Irish Cream Coffee       104     8     31     \n",
       "3368 7/1/12  Central Decaf Irish Cream Coffee       140    20     49     \n",
       "3369 8/1/12  West    Decaf Irish Cream Coffee       244    30    166     \n",
       "3370 5/1/13  West    Amaretto          Coffee       119    36     79     \n",
       "3371 12/1/12 East    Decaf Irish Cream Coffee       554   273    142     \n",
       "3372 5/1/13  Central Decaf Irish Cream Coffee       132    51     42     \n",
       "3373 5/1/13  Central Decaf Irish Cream Coffee        61    29     18     \n",
       "3374 11/1/13 Central Decaf Irish Cream Coffee       536   388    103     \n",
       "3375 10/1/12 East    Amaretto          Coffee       262    12     64     \n",
       "3376 5/1/13  West    Decaf Irish Cream Coffee       125    31     43     \n",
       "3377 12/1/12 Central Decaf Irish Cream Coffee       189    34     44     \n",
       "3378 9/1/13  West    Decaf Irish Cream Coffee       139    28     41     \n",
       "3379 9/1/13  East    Decaf Irish Cream Coffee       307   125     41     \n",
       "3380 5/1/13  West    Decaf Irish Cream Coffee       180    40     45     \n",
       "3381 2/1/12  West    Amaretto          Coffee       124    24     51     \n",
       "3382 3/1/12  Central Decaf Irish Cream Coffee       104    20     34     \n",
       "3383 1/1/12  Central Decaf Irish Cream Coffee       310   163     36     "
      ]
     },
     "metadata": {},
     "output_type": "display_data"
    }
   ],
   "source": [
    "# YOUR CODE HERE\n",
    "# coffee %>%\n",
    "filter(coffee, `Product Type` == \"Coffee\")"
   ]
  },
  {
   "cell_type": "markdown",
   "id": "ac388fa2-389e-4eee-b4e3-0e1028d8777b",
   "metadata": {},
   "source": [
    "**2. Select all rows with negative profit values!** _(You should end up with 686 rows.)_"
   ]
  },
  {
   "cell_type": "code",
   "execution_count": 32,
   "id": "d4483698-5380-4a1e-9349-056d25f65f29",
   "metadata": {
    "vscode": {
     "languageId": "r"
    }
   },
   "outputs": [
    {
     "data": {
      "text/html": [
       "<table class=\"dataframe\">\n",
       "<caption>A tibble: 686 × 7</caption>\n",
       "<thead>\n",
       "\t<tr><th scope=col>Ddate</th><th scope=col>Market</th><th scope=col>Product</th><th scope=col>Product Type</th><th scope=col>Sales</th><th scope=col>Profit</th><th scope=col>Expenses</th></tr>\n",
       "\t<tr><th scope=col>&lt;chr&gt;</th><th scope=col>&lt;fct&gt;</th><th scope=col>&lt;fct&gt;</th><th scope=col>&lt;fct&gt;</th><th scope=col>&lt;int&gt;</th><th scope=col>&lt;int&gt;</th><th scope=col>&lt;int&gt;</th></tr>\n",
       "</thead>\n",
       "<tbody>\n",
       "\t<tr><td>12/1/13</td><td>West   </td><td>Amaretto         </td><td>Coffee    </td><td>201</td><td>  -3</td><td> 68</td></tr>\n",
       "\t<tr><td>9/1/12 </td><td>East   </td><td>Lemon            </td><td>Herbal Tea</td><td> 84</td><td>  -8</td><td> 72</td></tr>\n",
       "\t<tr><td>4/1/12 </td><td>East   </td><td>Decaf Espresso   </td><td>Espresso  </td><td> 54</td><td>  -4</td><td> 26</td></tr>\n",
       "\t<tr><td>9/1/12 </td><td>South  </td><td>Lemon            </td><td>Herbal Tea</td><td>145</td><td>  -4</td><td> 54</td></tr>\n",
       "\t<tr><td>9/1/12 </td><td>South  </td><td>Lemon            </td><td>Herbal Tea</td><td> 89</td><td>  -5</td><td> 37</td></tr>\n",
       "\t<tr><td>7/1/12 </td><td>West   </td><td>Decaf Irish Cream</td><td>Coffee    </td><td>127</td><td>  -2</td><td> 71</td></tr>\n",
       "\t<tr><td>5/1/13 </td><td>East   </td><td>Decaf Irish Cream</td><td>Coffee    </td><td>185</td><td> -56</td><td> 49</td></tr>\n",
       "\t<tr><td>5/1/13 </td><td>West   </td><td>Mint             </td><td>Herbal Tea</td><td>109</td><td>  -7</td><td> 71</td></tr>\n",
       "\t<tr><td>9/1/12 </td><td>South  </td><td>Decaf Irish Cream</td><td>Coffee    </td><td> 77</td><td> -16</td><td> 72</td></tr>\n",
       "\t<tr><td>10/1/12</td><td>East   </td><td>Darjeeling       </td><td>Tea       </td><td> 83</td><td>  -5</td><td> 38</td></tr>\n",
       "\t<tr><td>5/1/13 </td><td>Central</td><td>Mint             </td><td>Herbal Tea</td><td>100</td><td>  -8</td><td> 44</td></tr>\n",
       "\t<tr><td>10/1/12</td><td>Central</td><td>Caffe Mocha      </td><td>Espresso  </td><td>125</td><td> -16</td><td> 61</td></tr>\n",
       "\t<tr><td>10/1/12</td><td>South  </td><td>Decaf Irish Cream</td><td>Coffee    </td><td> 52</td><td>  -3</td><td> 29</td></tr>\n",
       "\t<tr><td>10/1/12</td><td>East   </td><td>Caffe Mocha      </td><td>Espresso  </td><td> 89</td><td>  -2</td><td> 49</td></tr>\n",
       "\t<tr><td>8/1/13 </td><td>Central</td><td>Chamomile        </td><td>Herbal Tea</td><td> 59</td><td>  -3</td><td> 23</td></tr>\n",
       "\t<tr><td>3/1/12 </td><td>West   </td><td>Darjeeling       </td><td>Tea       </td><td> 96</td><td> -14</td><td> 25</td></tr>\n",
       "\t<tr><td>9/1/12 </td><td>West   </td><td>Amaretto         </td><td>Coffee    </td><td>131</td><td> -10</td><td> 58</td></tr>\n",
       "\t<tr><td>4/1/12 </td><td>West   </td><td>Darjeeling       </td><td>Tea       </td><td> 84</td><td>  -9</td><td> 50</td></tr>\n",
       "\t<tr><td>8/1/12 </td><td>West   </td><td>Decaf Irish Cream</td><td>Coffee    </td><td>238</td><td>  -2</td><td>152</td></tr>\n",
       "\t<tr><td>10/1/12</td><td>West   </td><td>Darjeeling       </td><td>Tea       </td><td>146</td><td>  -3</td><td> 67</td></tr>\n",
       "\t<tr><td>5/1/13 </td><td>West   </td><td>Darjeeling       </td><td>Tea       </td><td> 61</td><td> -17</td><td> 70</td></tr>\n",
       "\t<tr><td>4/1/12 </td><td>East   </td><td>Lemon            </td><td>Herbal Tea</td><td> 93</td><td> -11</td><td> 41</td></tr>\n",
       "\t<tr><td>2/1/12 </td><td>South  </td><td>Caffe Mocha      </td><td>Espresso  </td><td>178</td><td>  -4</td><td> 83</td></tr>\n",
       "\t<tr><td>5/1/13 </td><td>West   </td><td>Darjeeling       </td><td>Tea       </td><td> 47</td><td>-521</td><td> 42</td></tr>\n",
       "\t<tr><td>8/1/12 </td><td>West   </td><td>Lemon            </td><td>Herbal Tea</td><td> 28</td><td>  -4</td><td> 11</td></tr>\n",
       "\t<tr><td>7/1/12 </td><td>Central</td><td>Decaf Irish Cream</td><td>Coffee    </td><td>124</td><td>  -2</td><td> 52</td></tr>\n",
       "\t<tr><td>4/1/12 </td><td>East   </td><td>Mint             </td><td>Herbal Tea</td><td>117</td><td>  -8</td><td> 54</td></tr>\n",
       "\t<tr><td>1/1/13 </td><td>South  </td><td>Caffe Latte      </td><td>Espresso  </td><td>158</td><td>  -2</td><td> 57</td></tr>\n",
       "\t<tr><td>5/1/13 </td><td>East   </td><td>Chamomile        </td><td>Herbal Tea</td><td> 89</td><td> -25</td><td> 67</td></tr>\n",
       "\t<tr><td>10/1/12</td><td>West   </td><td>Darjeeling       </td><td>Tea       </td><td> 95</td><td>  -3</td><td> 41</td></tr>\n",
       "\t<tr><td>⋮</td><td>⋮</td><td>⋮</td><td>⋮</td><td>⋮</td><td>⋮</td><td>⋮</td></tr>\n",
       "\t<tr><td>3/1/12 </td><td>Central</td><td>Decaf Irish Cream</td><td>Coffee    </td><td>153</td><td> -26</td><td> 78</td></tr>\n",
       "\t<tr><td>7/1/12 </td><td>Central</td><td>Decaf Irish Cream</td><td>Coffee    </td><td>123</td><td>  -1</td><td> 48</td></tr>\n",
       "\t<tr><td>11/1/13</td><td>East   </td><td>Darjeeling       </td><td>Tea       </td><td> 64</td><td>  -5</td><td> 34</td></tr>\n",
       "\t<tr><td>9/1/12 </td><td>Central</td><td>Chamomile        </td><td>Herbal Tea</td><td> 99</td><td>  -6</td><td> 42</td></tr>\n",
       "\t<tr><td>2/1/13 </td><td>West   </td><td>Decaf Irish Cream</td><td>Coffee    </td><td> 84</td><td> -16</td><td> 44</td></tr>\n",
       "\t<tr><td>12/1/12</td><td>West   </td><td>Decaf Irish Cream</td><td>Coffee    </td><td>198</td><td>-162</td><td>132</td></tr>\n",
       "\t<tr><td>6/1/12 </td><td>East   </td><td>Regular Espresso </td><td>Espresso  </td><td> 92</td><td> -14</td><td> 90</td></tr>\n",
       "\t<tr><td>1/1/12 </td><td>Central</td><td>Decaf Irish Cream</td><td>Coffee    </td><td>118</td><td>  -4</td><td> 63</td></tr>\n",
       "\t<tr><td>6/1/12 </td><td>West   </td><td>Decaf Irish Cream</td><td>Coffee    </td><td>123</td><td>  -5</td><td> 45</td></tr>\n",
       "\t<tr><td>11/1/12</td><td>East   </td><td>Lemon            </td><td>Herbal Tea</td><td> 76</td><td>  -6</td><td> 43</td></tr>\n",
       "\t<tr><td>2/1/12 </td><td>Central</td><td>Darjeeling       </td><td>Tea       </td><td>122</td><td>  -4</td><td> 37</td></tr>\n",
       "\t<tr><td>3/1/12 </td><td>Central</td><td>Decaf Irish Cream</td><td>Coffee    </td><td>101</td><td>  -1</td><td> 37</td></tr>\n",
       "\t<tr><td>3/1/12 </td><td>East   </td><td>Lemon            </td><td>Herbal Tea</td><td>112</td><td> -29</td><td> 58</td></tr>\n",
       "\t<tr><td>4/1/12 </td><td>West   </td><td>Decaf Irish Cream</td><td>Coffee    </td><td> 72</td><td> -16</td><td> 43</td></tr>\n",
       "\t<tr><td>4/1/12 </td><td>West   </td><td>Darjeeling       </td><td>Tea       </td><td> 89</td><td>  -8</td><td> 45</td></tr>\n",
       "\t<tr><td>10/1/12</td><td>South  </td><td>Chamomile        </td><td>Herbal Tea</td><td> 48</td><td> -11</td><td> 21</td></tr>\n",
       "\t<tr><td>2/1/12 </td><td>West   </td><td>Darjeeling       </td><td>Tea       </td><td>100</td><td> -14</td><td> 79</td></tr>\n",
       "\t<tr><td>11/1/12</td><td>East   </td><td>Darjeeling       </td><td>Tea       </td><td> 59</td><td>  -5</td><td> 22</td></tr>\n",
       "\t<tr><td>12/1/12</td><td>Central</td><td>Amaretto         </td><td>Coffee    </td><td>166</td><td>  -5</td><td> 66</td></tr>\n",
       "\t<tr><td>3/1/12 </td><td>South  </td><td>Decaf Irish Cream</td><td>Coffee    </td><td>122</td><td>  -1</td><td> 78</td></tr>\n",
       "\t<tr><td>3/1/12 </td><td>East   </td><td>Lemon            </td><td>Herbal Tea</td><td>130</td><td> -14</td><td> 78</td></tr>\n",
       "\t<tr><td>10/1/12</td><td>West   </td><td>Decaf Espresso   </td><td>Espresso  </td><td> 67</td><td> -15</td><td> 15</td></tr>\n",
       "\t<tr><td>2/1/13 </td><td>West   </td><td>Decaf Irish Cream</td><td>Coffee    </td><td> 83</td><td>  -3</td><td> 25</td></tr>\n",
       "\t<tr><td>4/1/12 </td><td>West   </td><td>Darjeeling       </td><td>Tea       </td><td>101</td><td>-253</td><td>106</td></tr>\n",
       "\t<tr><td>3/1/13 </td><td>West   </td><td>Decaf Irish Cream</td><td>Coffee    </td><td>150</td><td>  -3</td><td>101</td></tr>\n",
       "\t<tr><td>7/1/13 </td><td>East   </td><td>Caffe Mocha      </td><td>Espresso  </td><td> 54</td><td> -16</td><td> 27</td></tr>\n",
       "\t<tr><td>10/1/12</td><td>East   </td><td>Decaf Espresso   </td><td>Espresso  </td><td> 54</td><td>  -2</td><td> 17</td></tr>\n",
       "\t<tr><td>2/1/12 </td><td>West   </td><td>Darjeeling       </td><td>Tea       </td><td>137</td><td> -11</td><td> 76</td></tr>\n",
       "\t<tr><td>2/1/12 </td><td>Central</td><td>Lemon            </td><td>Herbal Tea</td><td>143</td><td>  -9</td><td> 73</td></tr>\n",
       "\t<tr><td>2/1/12 </td><td>West   </td><td>Caffe Mocha      </td><td>Espresso  </td><td> 55</td><td>-208</td><td> 23</td></tr>\n",
       "</tbody>\n",
       "</table>\n"
      ],
      "text/latex": [
       "A tibble: 686 × 7\n",
       "\\begin{tabular}{lllllll}\n",
       " Ddate & Market & Product & Product Type & Sales & Profit & Expenses\\\\\n",
       " <chr> & <fct> & <fct> & <fct> & <int> & <int> & <int>\\\\\n",
       "\\hline\n",
       "\t 12/1/13 & West    & Amaretto          & Coffee     & 201 &   -3 &  68\\\\\n",
       "\t 9/1/12  & East    & Lemon             & Herbal Tea &  84 &   -8 &  72\\\\\n",
       "\t 4/1/12  & East    & Decaf Espresso    & Espresso   &  54 &   -4 &  26\\\\\n",
       "\t 9/1/12  & South   & Lemon             & Herbal Tea & 145 &   -4 &  54\\\\\n",
       "\t 9/1/12  & South   & Lemon             & Herbal Tea &  89 &   -5 &  37\\\\\n",
       "\t 7/1/12  & West    & Decaf Irish Cream & Coffee     & 127 &   -2 &  71\\\\\n",
       "\t 5/1/13  & East    & Decaf Irish Cream & Coffee     & 185 &  -56 &  49\\\\\n",
       "\t 5/1/13  & West    & Mint              & Herbal Tea & 109 &   -7 &  71\\\\\n",
       "\t 9/1/12  & South   & Decaf Irish Cream & Coffee     &  77 &  -16 &  72\\\\\n",
       "\t 10/1/12 & East    & Darjeeling        & Tea        &  83 &   -5 &  38\\\\\n",
       "\t 5/1/13  & Central & Mint              & Herbal Tea & 100 &   -8 &  44\\\\\n",
       "\t 10/1/12 & Central & Caffe Mocha       & Espresso   & 125 &  -16 &  61\\\\\n",
       "\t 10/1/12 & South   & Decaf Irish Cream & Coffee     &  52 &   -3 &  29\\\\\n",
       "\t 10/1/12 & East    & Caffe Mocha       & Espresso   &  89 &   -2 &  49\\\\\n",
       "\t 8/1/13  & Central & Chamomile         & Herbal Tea &  59 &   -3 &  23\\\\\n",
       "\t 3/1/12  & West    & Darjeeling        & Tea        &  96 &  -14 &  25\\\\\n",
       "\t 9/1/12  & West    & Amaretto          & Coffee     & 131 &  -10 &  58\\\\\n",
       "\t 4/1/12  & West    & Darjeeling        & Tea        &  84 &   -9 &  50\\\\\n",
       "\t 8/1/12  & West    & Decaf Irish Cream & Coffee     & 238 &   -2 & 152\\\\\n",
       "\t 10/1/12 & West    & Darjeeling        & Tea        & 146 &   -3 &  67\\\\\n",
       "\t 5/1/13  & West    & Darjeeling        & Tea        &  61 &  -17 &  70\\\\\n",
       "\t 4/1/12  & East    & Lemon             & Herbal Tea &  93 &  -11 &  41\\\\\n",
       "\t 2/1/12  & South   & Caffe Mocha       & Espresso   & 178 &   -4 &  83\\\\\n",
       "\t 5/1/13  & West    & Darjeeling        & Tea        &  47 & -521 &  42\\\\\n",
       "\t 8/1/12  & West    & Lemon             & Herbal Tea &  28 &   -4 &  11\\\\\n",
       "\t 7/1/12  & Central & Decaf Irish Cream & Coffee     & 124 &   -2 &  52\\\\\n",
       "\t 4/1/12  & East    & Mint              & Herbal Tea & 117 &   -8 &  54\\\\\n",
       "\t 1/1/13  & South   & Caffe Latte       & Espresso   & 158 &   -2 &  57\\\\\n",
       "\t 5/1/13  & East    & Chamomile         & Herbal Tea &  89 &  -25 &  67\\\\\n",
       "\t 10/1/12 & West    & Darjeeling        & Tea        &  95 &   -3 &  41\\\\\n",
       "\t ⋮ & ⋮ & ⋮ & ⋮ & ⋮ & ⋮ & ⋮\\\\\n",
       "\t 3/1/12  & Central & Decaf Irish Cream & Coffee     & 153 &  -26 &  78\\\\\n",
       "\t 7/1/12  & Central & Decaf Irish Cream & Coffee     & 123 &   -1 &  48\\\\\n",
       "\t 11/1/13 & East    & Darjeeling        & Tea        &  64 &   -5 &  34\\\\\n",
       "\t 9/1/12  & Central & Chamomile         & Herbal Tea &  99 &   -6 &  42\\\\\n",
       "\t 2/1/13  & West    & Decaf Irish Cream & Coffee     &  84 &  -16 &  44\\\\\n",
       "\t 12/1/12 & West    & Decaf Irish Cream & Coffee     & 198 & -162 & 132\\\\\n",
       "\t 6/1/12  & East    & Regular Espresso  & Espresso   &  92 &  -14 &  90\\\\\n",
       "\t 1/1/12  & Central & Decaf Irish Cream & Coffee     & 118 &   -4 &  63\\\\\n",
       "\t 6/1/12  & West    & Decaf Irish Cream & Coffee     & 123 &   -5 &  45\\\\\n",
       "\t 11/1/12 & East    & Lemon             & Herbal Tea &  76 &   -6 &  43\\\\\n",
       "\t 2/1/12  & Central & Darjeeling        & Tea        & 122 &   -4 &  37\\\\\n",
       "\t 3/1/12  & Central & Decaf Irish Cream & Coffee     & 101 &   -1 &  37\\\\\n",
       "\t 3/1/12  & East    & Lemon             & Herbal Tea & 112 &  -29 &  58\\\\\n",
       "\t 4/1/12  & West    & Decaf Irish Cream & Coffee     &  72 &  -16 &  43\\\\\n",
       "\t 4/1/12  & West    & Darjeeling        & Tea        &  89 &   -8 &  45\\\\\n",
       "\t 10/1/12 & South   & Chamomile         & Herbal Tea &  48 &  -11 &  21\\\\\n",
       "\t 2/1/12  & West    & Darjeeling        & Tea        & 100 &  -14 &  79\\\\\n",
       "\t 11/1/12 & East    & Darjeeling        & Tea        &  59 &   -5 &  22\\\\\n",
       "\t 12/1/12 & Central & Amaretto          & Coffee     & 166 &   -5 &  66\\\\\n",
       "\t 3/1/12  & South   & Decaf Irish Cream & Coffee     & 122 &   -1 &  78\\\\\n",
       "\t 3/1/12  & East    & Lemon             & Herbal Tea & 130 &  -14 &  78\\\\\n",
       "\t 10/1/12 & West    & Decaf Espresso    & Espresso   &  67 &  -15 &  15\\\\\n",
       "\t 2/1/13  & West    & Decaf Irish Cream & Coffee     &  83 &   -3 &  25\\\\\n",
       "\t 4/1/12  & West    & Darjeeling        & Tea        & 101 & -253 & 106\\\\\n",
       "\t 3/1/13  & West    & Decaf Irish Cream & Coffee     & 150 &   -3 & 101\\\\\n",
       "\t 7/1/13  & East    & Caffe Mocha       & Espresso   &  54 &  -16 &  27\\\\\n",
       "\t 10/1/12 & East    & Decaf Espresso    & Espresso   &  54 &   -2 &  17\\\\\n",
       "\t 2/1/12  & West    & Darjeeling        & Tea        & 137 &  -11 &  76\\\\\n",
       "\t 2/1/12  & Central & Lemon             & Herbal Tea & 143 &   -9 &  73\\\\\n",
       "\t 2/1/12  & West    & Caffe Mocha       & Espresso   &  55 & -208 &  23\\\\\n",
       "\\end{tabular}\n"
      ],
      "text/markdown": [
       "\n",
       "A tibble: 686 × 7\n",
       "\n",
       "| Ddate &lt;chr&gt; | Market &lt;fct&gt; | Product &lt;fct&gt; | Product Type &lt;fct&gt; | Sales &lt;int&gt; | Profit &lt;int&gt; | Expenses &lt;int&gt; |\n",
       "|---|---|---|---|---|---|---|\n",
       "| 12/1/13 | West    | Amaretto          | Coffee     | 201 |   -3 |  68 |\n",
       "| 9/1/12  | East    | Lemon             | Herbal Tea |  84 |   -8 |  72 |\n",
       "| 4/1/12  | East    | Decaf Espresso    | Espresso   |  54 |   -4 |  26 |\n",
       "| 9/1/12  | South   | Lemon             | Herbal Tea | 145 |   -4 |  54 |\n",
       "| 9/1/12  | South   | Lemon             | Herbal Tea |  89 |   -5 |  37 |\n",
       "| 7/1/12  | West    | Decaf Irish Cream | Coffee     | 127 |   -2 |  71 |\n",
       "| 5/1/13  | East    | Decaf Irish Cream | Coffee     | 185 |  -56 |  49 |\n",
       "| 5/1/13  | West    | Mint              | Herbal Tea | 109 |   -7 |  71 |\n",
       "| 9/1/12  | South   | Decaf Irish Cream | Coffee     |  77 |  -16 |  72 |\n",
       "| 10/1/12 | East    | Darjeeling        | Tea        |  83 |   -5 |  38 |\n",
       "| 5/1/13  | Central | Mint              | Herbal Tea | 100 |   -8 |  44 |\n",
       "| 10/1/12 | Central | Caffe Mocha       | Espresso   | 125 |  -16 |  61 |\n",
       "| 10/1/12 | South   | Decaf Irish Cream | Coffee     |  52 |   -3 |  29 |\n",
       "| 10/1/12 | East    | Caffe Mocha       | Espresso   |  89 |   -2 |  49 |\n",
       "| 8/1/13  | Central | Chamomile         | Herbal Tea |  59 |   -3 |  23 |\n",
       "| 3/1/12  | West    | Darjeeling        | Tea        |  96 |  -14 |  25 |\n",
       "| 9/1/12  | West    | Amaretto          | Coffee     | 131 |  -10 |  58 |\n",
       "| 4/1/12  | West    | Darjeeling        | Tea        |  84 |   -9 |  50 |\n",
       "| 8/1/12  | West    | Decaf Irish Cream | Coffee     | 238 |   -2 | 152 |\n",
       "| 10/1/12 | West    | Darjeeling        | Tea        | 146 |   -3 |  67 |\n",
       "| 5/1/13  | West    | Darjeeling        | Tea        |  61 |  -17 |  70 |\n",
       "| 4/1/12  | East    | Lemon             | Herbal Tea |  93 |  -11 |  41 |\n",
       "| 2/1/12  | South   | Caffe Mocha       | Espresso   | 178 |   -4 |  83 |\n",
       "| 5/1/13  | West    | Darjeeling        | Tea        |  47 | -521 |  42 |\n",
       "| 8/1/12  | West    | Lemon             | Herbal Tea |  28 |   -4 |  11 |\n",
       "| 7/1/12  | Central | Decaf Irish Cream | Coffee     | 124 |   -2 |  52 |\n",
       "| 4/1/12  | East    | Mint              | Herbal Tea | 117 |   -8 |  54 |\n",
       "| 1/1/13  | South   | Caffe Latte       | Espresso   | 158 |   -2 |  57 |\n",
       "| 5/1/13  | East    | Chamomile         | Herbal Tea |  89 |  -25 |  67 |\n",
       "| 10/1/12 | West    | Darjeeling        | Tea        |  95 |   -3 |  41 |\n",
       "| ⋮ | ⋮ | ⋮ | ⋮ | ⋮ | ⋮ | ⋮ |\n",
       "| 3/1/12  | Central | Decaf Irish Cream | Coffee     | 153 |  -26 |  78 |\n",
       "| 7/1/12  | Central | Decaf Irish Cream | Coffee     | 123 |   -1 |  48 |\n",
       "| 11/1/13 | East    | Darjeeling        | Tea        |  64 |   -5 |  34 |\n",
       "| 9/1/12  | Central | Chamomile         | Herbal Tea |  99 |   -6 |  42 |\n",
       "| 2/1/13  | West    | Decaf Irish Cream | Coffee     |  84 |  -16 |  44 |\n",
       "| 12/1/12 | West    | Decaf Irish Cream | Coffee     | 198 | -162 | 132 |\n",
       "| 6/1/12  | East    | Regular Espresso  | Espresso   |  92 |  -14 |  90 |\n",
       "| 1/1/12  | Central | Decaf Irish Cream | Coffee     | 118 |   -4 |  63 |\n",
       "| 6/1/12  | West    | Decaf Irish Cream | Coffee     | 123 |   -5 |  45 |\n",
       "| 11/1/12 | East    | Lemon             | Herbal Tea |  76 |   -6 |  43 |\n",
       "| 2/1/12  | Central | Darjeeling        | Tea        | 122 |   -4 |  37 |\n",
       "| 3/1/12  | Central | Decaf Irish Cream | Coffee     | 101 |   -1 |  37 |\n",
       "| 3/1/12  | East    | Lemon             | Herbal Tea | 112 |  -29 |  58 |\n",
       "| 4/1/12  | West    | Decaf Irish Cream | Coffee     |  72 |  -16 |  43 |\n",
       "| 4/1/12  | West    | Darjeeling        | Tea        |  89 |   -8 |  45 |\n",
       "| 10/1/12 | South   | Chamomile         | Herbal Tea |  48 |  -11 |  21 |\n",
       "| 2/1/12  | West    | Darjeeling        | Tea        | 100 |  -14 |  79 |\n",
       "| 11/1/12 | East    | Darjeeling        | Tea        |  59 |   -5 |  22 |\n",
       "| 12/1/12 | Central | Amaretto          | Coffee     | 166 |   -5 |  66 |\n",
       "| 3/1/12  | South   | Decaf Irish Cream | Coffee     | 122 |   -1 |  78 |\n",
       "| 3/1/12  | East    | Lemon             | Herbal Tea | 130 |  -14 |  78 |\n",
       "| 10/1/12 | West    | Decaf Espresso    | Espresso   |  67 |  -15 |  15 |\n",
       "| 2/1/13  | West    | Decaf Irish Cream | Coffee     |  83 |   -3 |  25 |\n",
       "| 4/1/12  | West    | Darjeeling        | Tea        | 101 | -253 | 106 |\n",
       "| 3/1/13  | West    | Decaf Irish Cream | Coffee     | 150 |   -3 | 101 |\n",
       "| 7/1/13  | East    | Caffe Mocha       | Espresso   |  54 |  -16 |  27 |\n",
       "| 10/1/12 | East    | Decaf Espresso    | Espresso   |  54 |   -2 |  17 |\n",
       "| 2/1/12  | West    | Darjeeling        | Tea        | 137 |  -11 |  76 |\n",
       "| 2/1/12  | Central | Lemon             | Herbal Tea | 143 |   -9 |  73 |\n",
       "| 2/1/12  | West    | Caffe Mocha       | Espresso   |  55 | -208 |  23 |\n",
       "\n"
      ],
      "text/plain": [
       "    Ddate   Market  Product           Product Type Sales Profit Expenses\n",
       "1   12/1/13 West    Amaretto          Coffee       201     -3    68     \n",
       "2   9/1/12  East    Lemon             Herbal Tea    84     -8    72     \n",
       "3   4/1/12  East    Decaf Espresso    Espresso      54     -4    26     \n",
       "4   9/1/12  South   Lemon             Herbal Tea   145     -4    54     \n",
       "5   9/1/12  South   Lemon             Herbal Tea    89     -5    37     \n",
       "6   7/1/12  West    Decaf Irish Cream Coffee       127     -2    71     \n",
       "7   5/1/13  East    Decaf Irish Cream Coffee       185    -56    49     \n",
       "8   5/1/13  West    Mint              Herbal Tea   109     -7    71     \n",
       "9   9/1/12  South   Decaf Irish Cream Coffee        77    -16    72     \n",
       "10  10/1/12 East    Darjeeling        Tea           83     -5    38     \n",
       "11  5/1/13  Central Mint              Herbal Tea   100     -8    44     \n",
       "12  10/1/12 Central Caffe Mocha       Espresso     125    -16    61     \n",
       "13  10/1/12 South   Decaf Irish Cream Coffee        52     -3    29     \n",
       "14  10/1/12 East    Caffe Mocha       Espresso      89     -2    49     \n",
       "15  8/1/13  Central Chamomile         Herbal Tea    59     -3    23     \n",
       "16  3/1/12  West    Darjeeling        Tea           96    -14    25     \n",
       "17  9/1/12  West    Amaretto          Coffee       131    -10    58     \n",
       "18  4/1/12  West    Darjeeling        Tea           84     -9    50     \n",
       "19  8/1/12  West    Decaf Irish Cream Coffee       238     -2   152     \n",
       "20  10/1/12 West    Darjeeling        Tea          146     -3    67     \n",
       "21  5/1/13  West    Darjeeling        Tea           61    -17    70     \n",
       "22  4/1/12  East    Lemon             Herbal Tea    93    -11    41     \n",
       "23  2/1/12  South   Caffe Mocha       Espresso     178     -4    83     \n",
       "24  5/1/13  West    Darjeeling        Tea           47   -521    42     \n",
       "25  8/1/12  West    Lemon             Herbal Tea    28     -4    11     \n",
       "26  7/1/12  Central Decaf Irish Cream Coffee       124     -2    52     \n",
       "27  4/1/12  East    Mint              Herbal Tea   117     -8    54     \n",
       "28  1/1/13  South   Caffe Latte       Espresso     158     -2    57     \n",
       "29  5/1/13  East    Chamomile         Herbal Tea    89    -25    67     \n",
       "30  10/1/12 West    Darjeeling        Tea           95     -3    41     \n",
       "⋮   ⋮       ⋮       ⋮                 ⋮            ⋮     ⋮      ⋮       \n",
       "657 3/1/12  Central Decaf Irish Cream Coffee       153    -26    78     \n",
       "658 7/1/12  Central Decaf Irish Cream Coffee       123     -1    48     \n",
       "659 11/1/13 East    Darjeeling        Tea           64     -5    34     \n",
       "660 9/1/12  Central Chamomile         Herbal Tea    99     -6    42     \n",
       "661 2/1/13  West    Decaf Irish Cream Coffee        84    -16    44     \n",
       "662 12/1/12 West    Decaf Irish Cream Coffee       198   -162   132     \n",
       "663 6/1/12  East    Regular Espresso  Espresso      92    -14    90     \n",
       "664 1/1/12  Central Decaf Irish Cream Coffee       118     -4    63     \n",
       "665 6/1/12  West    Decaf Irish Cream Coffee       123     -5    45     \n",
       "666 11/1/12 East    Lemon             Herbal Tea    76     -6    43     \n",
       "667 2/1/12  Central Darjeeling        Tea          122     -4    37     \n",
       "668 3/1/12  Central Decaf Irish Cream Coffee       101     -1    37     \n",
       "669 3/1/12  East    Lemon             Herbal Tea   112    -29    58     \n",
       "670 4/1/12  West    Decaf Irish Cream Coffee        72    -16    43     \n",
       "671 4/1/12  West    Darjeeling        Tea           89     -8    45     \n",
       "672 10/1/12 South   Chamomile         Herbal Tea    48    -11    21     \n",
       "673 2/1/12  West    Darjeeling        Tea          100    -14    79     \n",
       "674 11/1/12 East    Darjeeling        Tea           59     -5    22     \n",
       "675 12/1/12 Central Amaretto          Coffee       166     -5    66     \n",
       "676 3/1/12  South   Decaf Irish Cream Coffee       122     -1    78     \n",
       "677 3/1/12  East    Lemon             Herbal Tea   130    -14    78     \n",
       "678 10/1/12 West    Decaf Espresso    Espresso      67    -15    15     \n",
       "679 2/1/13  West    Decaf Irish Cream Coffee        83     -3    25     \n",
       "680 4/1/12  West    Darjeeling        Tea          101   -253   106     \n",
       "681 3/1/13  West    Decaf Irish Cream Coffee       150     -3   101     \n",
       "682 7/1/13  East    Caffe Mocha       Espresso      54    -16    27     \n",
       "683 10/1/12 East    Decaf Espresso    Espresso      54     -2    17     \n",
       "684 2/1/12  West    Darjeeling        Tea          137    -11    76     \n",
       "685 2/1/12  Central Lemon             Herbal Tea   143     -9    73     \n",
       "686 2/1/12  West    Caffe Mocha       Espresso      55   -208    23     "
      ]
     },
     "metadata": {},
     "output_type": "display_data"
    }
   ],
   "source": [
    "# YOUR CODE HERE\n",
    "coffee[coffee$Profit < 0, ]"
   ]
  },
  {
   "cell_type": "markdown",
   "id": "20bab962-ef1b-4689-941c-950dee3016d4",
   "metadata": {},
   "source": [
    "**3. Select all rows with product type \"Coffee\" _or_ \"Espresso\" that also come from the \"West\" market!** _(You should end up with 1712 rows.)_"
   ]
  },
  {
   "cell_type": "code",
   "execution_count": null,
   "id": "1aaa7824-95cb-4243-9229-af05567c48ad",
   "metadata": {
    "vscode": {
     "languageId": "r"
    }
   },
   "outputs": [],
   "source": [
    "# YOUR CODE HERE"
   ]
  },
  {
   "cell_type": "markdown",
   "id": "0ba98e3d-ef82-46fb-bd9b-52ba9c133fed",
   "metadata": {},
   "source": [
    "**4. Select all rows with \"Darjeeling\" tea where the _sales_ are greater than 500!** _(You should end up with 76 rows.)_"
   ]
  },
  {
   "cell_type": "code",
   "execution_count": null,
   "id": "f8ebe8ff-fcb1-468d-8e60-5b878cc1fbc7",
   "metadata": {
    "vscode": {
     "languageId": "r"
    }
   },
   "outputs": [],
   "source": [
    "# YOUR CODE HERE"
   ]
  },
  {
   "cell_type": "markdown",
   "id": "489aa47d-d370-4184-8d72-f11073414820",
   "metadata": {},
   "source": [
    "**5. Arrange the coffee dataset by \"Sales\" in descending order!** What product had the highest number of sales in the dataset?"
   ]
  },
  {
   "cell_type": "code",
   "execution_count": null,
   "id": "b62c24d9-7b90-4a39-aa3c-981b45ff7427",
   "metadata": {
    "vscode": {
     "languageId": "r"
    }
   },
   "outputs": [],
   "source": [
    "# YOUR CODE HERE"
   ]
  },
  {
   "cell_type": "markdown",
   "id": "61d0de6b-db13-4165-8a6f-dd18fcd8c1ef",
   "metadata": {},
   "source": [
    "**6. Select the \"Product\" and \"Product Type\" columns and assign them to a variable `products`!**"
   ]
  },
  {
   "cell_type": "code",
   "execution_count": null,
   "id": "aad5f0ec-9cd9-42ae-90dc-799b28cbe462",
   "metadata": {
    "vscode": {
     "languageId": "r"
    }
   },
   "outputs": [],
   "source": [
    "# YOUR CODE HERE"
   ]
  },
  {
   "cell_type": "markdown",
   "id": "e2c88e7b-5018-4eda-9a82-4f32b7446c41",
   "metadata": {},
   "source": [
    "Afterwards, you should be able to run the following line of code to get all 13 unique \"Product\"–\"Product Type\" combinations:"
   ]
  },
  {
   "cell_type": "code",
   "execution_count": null,
   "id": "2936b386-266e-450d-a9f0-f0389b6e87c9",
   "metadata": {
    "vscode": {
     "languageId": "r"
    }
   },
   "outputs": [],
   "source": [
    "unique(products)"
   ]
  },
  {
   "cell_type": "markdown",
   "id": "9c8eca86-ee7e-46e4-92ff-1e301f0e968b",
   "metadata": {},
   "source": [
    "**7. Find out what the `any_of()` function does, and how to use it to select all columns whose names are included in the `cols` vector below.**"
   ]
  },
  {
   "cell_type": "code",
   "execution_count": null,
   "id": "350bdace-b092-4062-b87e-fee5efe49ec2",
   "metadata": {
    "vscode": {
     "languageId": "r"
    }
   },
   "outputs": [],
   "source": [
    "cols <- c(\"Sales\", \"Inventory\", \"Budget\", \"Profit\", \"Expenses\")"
   ]
  },
  {
   "cell_type": "code",
   "execution_count": null,
   "id": "47bb74a3-00be-4359-99c1-edc0fecbeb0b",
   "metadata": {
    "vscode": {
     "languageId": "r"
    }
   },
   "outputs": [],
   "source": [
    "# YOUR CODE HERE"
   ]
  },
  {
   "cell_type": "markdown",
   "id": "79e23b3a-4a91-4183-8756-c8e8be33f0d5",
   "metadata": {},
   "source": [
    "**8. Rearrange the columns so that the \"Product Type\" column comes first.**"
   ]
  },
  {
   "cell_type": "code",
   "execution_count": null,
   "id": "0ac06e61-125b-431a-bd19-93d47046a776",
   "metadata": {
    "vscode": {
     "languageId": "r"
    }
   },
   "outputs": [],
   "source": [
    "# YOUR CODE HERE"
   ]
  },
  {
   "cell_type": "markdown",
   "id": "75f803ce-370a-4475-b57c-e223d9625b62",
   "metadata": {},
   "source": [
    "**9. Rename the \"Product Type\" column to \"Product_Type\"!** Notice the underscore. If we change the space to an underscore, we don't have to wrap this column name in backticks all the time. Assign the result to the `coffee` variable again so the change persists!"
   ]
  },
  {
   "cell_type": "code",
   "execution_count": null,
   "id": "f1027998-d6ed-471c-9af3-73ff5425b58c",
   "metadata": {
    "vscode": {
     "languageId": "r"
    }
   },
   "outputs": [],
   "source": [
    "# YOUR CODE HERE"
   ]
  },
  {
   "cell_type": "markdown",
   "id": "757b357c-26b9-4a92-bc7e-f8987a823997",
   "metadata": {},
   "source": [
    "_Bonus:_ The `rename_with()` function changes column names based on a function. For example, we can change them all to lowercase via:"
   ]
  },
  {
   "cell_type": "code",
   "execution_count": null,
   "id": "512295d1-f7e6-4a47-8505-9083c260b76a",
   "metadata": {
    "vscode": {
     "languageId": "r"
    }
   },
   "outputs": [],
   "source": [
    "coffee <- rename_with(coffee, tolower)"
   ]
  },
  {
   "cell_type": "markdown",
   "id": "79e3466d-121a-4f3d-b407-1549ac445d00",
   "metadata": {},
   "source": [
    "I'll refer to column names in lowercase from here on."
   ]
  },
  {
   "cell_type": "markdown",
   "id": "35c6c779-4460-4928-889b-12b546837a02",
   "metadata": {},
   "source": [
    "**10. Create two new columns: a column \"revenue\" that is the _sum_ of \"profit\" and \"expenses\"; and a column \"margin\" that is \"profit\" _divided by_ \"revenue\".** Try to create both columns in a single `mutate()` statement."
   ]
  },
  {
   "cell_type": "code",
   "execution_count": null,
   "id": "1b13ef4b-a9d1-4613-993e-c548e827533c",
   "metadata": {
    "vscode": {
     "languageId": "r"
    }
   },
   "outputs": [],
   "source": [
    "# YOUR CODE HERE"
   ]
  },
  {
   "cell_type": "markdown",
   "id": "509c6d5b-3f2f-4a4d-bbd7-4724c043ce51",
   "metadata": {},
   "source": [
    "**11. Make a new column \"profit_above_avg\" that is `TRUE` when the \"profit\" is above the average of the dataset, and `FALSE` otherwise.** _Note:_ You can get the average by calling `mean()`."
   ]
  },
  {
   "cell_type": "code",
   "execution_count": null,
   "id": "742eea58-dd6b-40aa-9214-5373e0d31d4a",
   "metadata": {
    "vscode": {
     "languageId": "r"
    }
   },
   "outputs": [],
   "source": [
    "# YOUR CODE HERE"
   ]
  },
  {
   "cell_type": "markdown",
   "id": "33559b62-d185-4960-aba2-796a6bc11172",
   "metadata": {},
   "source": [
    "- - - \n",
    "\n",
    "## Pipes, grouping, and summarising\n",
    "\n",
    "_Grouping_ and _summarising_ data is mainly done via `group_by()` and `summarise()`. They are often used together, and as such, it's a good idea to take a look at _pipes_ first before we get more into them."
   ]
  },
  {
   "cell_type": "markdown",
   "id": "2df2656f-a5a8-4154-b03c-70de45629da6",
   "metadata": {},
   "source": [
    "**12. Rewrite the cell below to a version _without pipes_ and _only one function per line_.** Use intermediate variables to store results of function calls. Basically, make sure that you understand what exactly is happening in the pipe."
   ]
  },
  {
   "cell_type": "code",
   "execution_count": null,
   "id": "e66ea119-238a-4230-b27c-5102cf8a5aa9",
   "metadata": {
    "vscode": {
     "languageId": "r"
    }
   },
   "outputs": [],
   "source": [
    "coffee %>%  \n",
    "  pull(profit) %>%\n",
    "  sum == 643034"
   ]
  },
  {
   "cell_type": "code",
   "execution_count": null,
   "id": "29dcb3a1-b4b1-43ba-9a6f-f82a906531ec",
   "metadata": {
    "vscode": {
     "languageId": "r"
    }
   },
   "outputs": [],
   "source": [
    "# YOUR CODE HERE"
   ]
  },
  {
   "cell_type": "markdown",
   "id": "33d74373-cdb3-4acd-9ca8-7f5841293e28",
   "metadata": {},
   "source": [
    "**13. Rewrite the cell below to a version _with pipes_.** You can use the `pull()` function to \"pull out\" specific columns of the dataset, or use the dot `.` in a pipe as a placeholder for the input variable."
   ]
  },
  {
   "cell_type": "code",
   "execution_count": null,
   "id": "c8582eb2-34a2-41cc-99bc-aedd398b1d8b",
   "metadata": {
    "vscode": {
     "languageId": "r"
    }
   },
   "outputs": [],
   "source": [
    "tmp <- filter(coffee, sales > 100)\n",
    "tmp <- count(tmp)\n",
    "tmp$n"
   ]
  },
  {
   "cell_type": "code",
   "execution_count": null,
   "id": "32252cb9-207c-442e-8e9a-afd337359947",
   "metadata": {
    "vscode": {
     "languageId": "r"
    }
   },
   "outputs": [],
   "source": [
    "# YOUR CODE HERE"
   ]
  },
  {
   "cell_type": "markdown",
   "id": "27f6c3a1-feaa-4912-8fad-9f7044d8c77b",
   "metadata": {},
   "source": [
    "**14. How many instances of each product type are there, and which one generates the most/the least profit, on average?** You'll need to chain a `group_by()` and a `summarise()` call to solve this; try to do this with a pipe (`%>%`) instead of intermediate variables, if possible. You should end up with a tibble that has four rows, one for each product type, and columns for the _name_, _count_, and _mean profit_ of each product type."
   ]
  },
  {
   "cell_type": "code",
   "execution_count": null,
   "id": "ecb3ff76-218c-4cb2-9fd7-457701835dc8",
   "metadata": {
    "vscode": {
     "languageId": "r"
    }
   },
   "outputs": [],
   "source": [
    "# YOUR CODE HERE"
   ]
  },
  {
   "cell_type": "markdown",
   "id": "4f7abb75-bf2d-45ee-9776-9d49447d2484",
   "metadata": {},
   "source": [
    "**15. What's the _minimum, maximum, average, and median profit_ per \"product\"?** The resulting tibble should have unique \"product\" values (e.g., Amaretto, Caffe Latte, ...) as _rows_, and the statistics about the distribution of their \"profit\" values as _columns_."
   ]
  },
  {
   "cell_type": "code",
   "execution_count": null,
   "id": "ab61314b-ed0d-40e3-a757-efc7674bd740",
   "metadata": {
    "vscode": {
     "languageId": "r"
    }
   },
   "outputs": [],
   "source": [
    "# YOUR CODE HERE"
   ]
  },
  {
   "cell_type": "markdown",
   "id": "b9554af2-c0c7-4ea3-b9d5-0e8467d382e5",
   "metadata": {},
   "source": [
    "**16. Filter out all products where we don't have data from all markets.** This is potentially a bit trickier. You might want to start by finding an expression that gives you the number of unique markets (you've seen an example for getting unique values at the top of this notebook, and you can look at the `length()` function to obtain a count), then try to figure out how to use grouping and filtering to achieve the desired result.\n",
    "\n",
    "_Note:_ Like in Exercise 1, where we did this before in Python, an indication that you got the right expression is that you should end up with a filtered dataset that has 7426 rows."
   ]
  },
  {
   "cell_type": "code",
   "execution_count": null,
   "id": "dd1c5d92-6429-4f15-9d51-f5f0b03530d6",
   "metadata": {
    "vscode": {
     "languageId": "r"
    }
   },
   "outputs": [],
   "source": [
    "# YOUR CODE HERE"
   ]
  },
  {
   "cell_type": "markdown",
   "id": "26ccaf63-9004-4312-925e-1ff19da17d26",
   "metadata": {},
   "source": [
    "- - - \n",
    "\n",
    "## Dates and date-times\n",
    "\n",
    "In this final part, we combine what we've practised so far with `lubridate`, which gives us functionality to work with dates and date-times. Here, [Chapter 16](https://r4ds.had.co.nz/dates-and-times.html) of the book comes into play.\n",
    "\n",
    "**17. Find the right `lubridate` function to convert the following string to a `date` object!** This string is in the same format as the \"Ddate\" column of our coffee dataset, so knowing the conversion function will help us work with it."
   ]
  },
  {
   "cell_type": "code",
   "execution_count": null,
   "id": "a840803c-7c85-45ab-81cd-c8725f55ec53",
   "metadata": {
    "vscode": {
     "languageId": "r"
    }
   },
   "outputs": [],
   "source": [
    "ddate1 <- \"8/21/13\"  # a.k.a. 21st August, 2013"
   ]
  },
  {
   "cell_type": "code",
   "execution_count": null,
   "id": "a5d49f4e-1208-4951-8909-560129c4e827",
   "metadata": {
    "vscode": {
     "languageId": "r"
    }
   },
   "outputs": [],
   "source": [
    "# YOUR CODE HERE"
   ]
  },
  {
   "cell_type": "markdown",
   "id": "e24afaf3-e195-4112-a709-e5226d52f2a1",
   "metadata": {},
   "source": [
    "**18. Modify the `coffee` dataset so that the \"ddate\" column contains a parsed \"date\" object instead of a string!** In the transformed dataset, \"ddate\" should now be a column of type `<date>` instead of `<chr>`."
   ]
  },
  {
   "cell_type": "code",
   "execution_count": null,
   "id": "b4c504af-7ccf-43f9-88ed-5e9e3b92a6c4",
   "metadata": {
    "vscode": {
     "languageId": "r"
    }
   },
   "outputs": [],
   "source": [
    "# YOUR CODE HERE"
   ]
  },
  {
   "cell_type": "markdown",
   "id": "1add1991-5440-4cdf-b9fa-d9d89c3cc258",
   "metadata": {},
   "source": [
    "**19. Select all _rows_ of the dataset where the _month_ is August.** Use your transformed dataset from the previous question."
   ]
  },
  {
   "cell_type": "code",
   "execution_count": null,
   "id": "314a9276-cff2-46ec-a314-49c4af72ce44",
   "metadata": {
    "vscode": {
     "languageId": "r"
    }
   },
   "outputs": [],
   "source": [
    "# YOUR CODE HERE"
   ]
  },
  {
   "cell_type": "markdown",
   "id": "0b8452a1-4712-45d7-bee0-3464bf750661",
   "metadata": {},
   "source": [
    "**20. How many \"ddate\"s in the dataset fell on a Sunday, and how many rows do we have for these dates?** I'll give you the answer in table form below – produce a function pipeline that ultimately gives the same result:\n",
    "\n",
    "|   ddate    | count | wday   |\n",
    "|------------|-------|--------|\n",
    "| 2012-01-01 | 565   | Sunday |\n",
    "| 2012-04-01 | 434   | Sunday |\n",
    "| 2012-07-01 | 431   | Sunday |\n",
    "| 2013-09-01 | 410   | Sunday |\n",
    "| 2013-12-01 | 99    | Sunday |"
   ]
  },
  {
   "cell_type": "code",
   "execution_count": null,
   "id": "1af96e23-0397-4411-882a-9d4d7459c58d",
   "metadata": {
    "vscode": {
     "languageId": "r"
    }
   },
   "outputs": [],
   "source": [
    "# YOUR CODE HERE"
   ]
  },
  {
   "cell_type": "markdown",
   "id": "819a7f30-382f-43a8-928d-59ddf303101f",
   "metadata": {},
   "source": [
    "The \"coffee chain\" dataset doesn't contain any times or date-times, so we'll try to answer some \"artificial\" questions that deal with those for now. There will be more opportunities to practice working with times and date-times in the assignment (and potentially other exercises).\n",
    "\n",
    "**21. How many _seconds_ passed between the birth of _Queen Elizabeth II of the United Kingdom_ and _King Carl XVI Gustaf of Sweden_?** Wikipedia is very specific about the times that royals were born. Concretely, you can find that:\n",
    "\n",
    "- Queen Elizabeth II was born on April 21, 1926, at 2:40 a.m. GMT in London.\n",
    "- Carl XVI Gustaf was born on April 30, 1946, at 10:20 a.m. in Stockholm.\n",
    "\n",
    "Create date-time objects for the birth of these two monarchs (don't forget about time zones!) and compute the difference _in seconds_ between them!"
   ]
  },
  {
   "cell_type": "code",
   "execution_count": null,
   "id": "e2487212-25f7-4fe8-947d-df6b5320f2ad",
   "metadata": {
    "vscode": {
     "languageId": "r"
    }
   },
   "outputs": [],
   "source": [
    "# YOUR CODE HERE"
   ]
  },
  {
   "cell_type": "markdown",
   "id": "0ed7d659-cd74-45b9-98f9-61cdc976aff3",
   "metadata": {},
   "source": [
    "**22. How many seconds after 10:00:00 is it right now?** This is a use case for the `hms` package, which isn't explicitly described in the book, but is simple & useful enough that we can just take a brief look at its documentation. Check `?hms` or [the \"hms\" website](https://hms.tidyverse.org/) for a brief overview of the package, and use the `hms()`, `as_hms()`, and `now()` functions to answer the question."
   ]
  },
  {
   "cell_type": "code",
   "execution_count": null,
   "id": "6f2131d2-7351-4916-930d-0379c531c46b",
   "metadata": {
    "vscode": {
     "languageId": "r"
    }
   },
   "outputs": [],
   "source": [
    "# YOUR CODE HERE"
   ]
  }
 ],
 "metadata": {
  "kernelspec": {
   "display_name": "R",
   "language": "R",
   "name": "ir"
  },
  "language_info": {
   "codemirror_mode": "r",
   "file_extension": ".r",
   "mimetype": "text/x-r-source",
   "name": "R",
   "pygments_lexer": "r",
   "version": "4.4.3"
  }
 },
 "nbformat": 4,
 "nbformat_minor": 5
}
